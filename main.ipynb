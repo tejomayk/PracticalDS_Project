{
 "cells": [
  {
   "cell_type": "code",
   "execution_count": 1,
   "metadata": {},
   "outputs": [],
   "source": [
    "import pandas as pd\n",
    "from train import train_and_evaluate_model"
   ]
  },
  {
   "cell_type": "code",
   "execution_count": 2,
   "metadata": {},
   "outputs": [],
   "source": [
    "df = pd.read_csv('data1M.csv', index_col=[0])"
   ]
  },
  {
   "cell_type": "code",
   "execution_count": null,
   "metadata": {},
   "outputs": [],
   "source": [
    "model, metrics, predictions, ground_truth, a = train_and_evaluate_model(df)"
   ]
  },
  {
   "cell_type": "code",
   "execution_count": 4,
   "metadata": {},
   "outputs": [
    {
     "name": "stdout",
     "output_type": "stream",
     "text": [
      "\n",
      "Model Performance Metrics:\n",
      "RMSE: 3.22 seconds\n",
      "R2 Score: 0.999\n",
      "Test Set Size: 95975 incidents\n"
     ]
    }
   ],
   "source": [
    "print(\"\\nModel Performance Metrics:\")\n",
    "print(f\"RMSE: {metrics['RMSE']:.2f} seconds\")\n",
    "print(f\"R2 Score: {metrics['R2']:.3f}\")\n",
    "print(f\"Test Set Size: {metrics['Test_Size']} incidents\")"
   ]
  },
  {
   "cell_type": "code",
   "execution_count": 5,
   "metadata": {},
   "outputs": [],
   "source": [
    "import matplotlib.pyplot as plt"
   ]
  },
  {
   "cell_type": "code",
   "execution_count": 11,
   "metadata": {},
   "outputs": [
    {
     "data": {
      "text/plain": [
       "<function matplotlib.pyplot.show(close=None, block=None)>"
      ]
     },
     "execution_count": 11,
     "metadata": {},
     "output_type": "execute_result"
    },
    {
     "data": {
      "image/png": "[encoded data removed]",
      "text/plain": [
       "<Figure size 640x480 with 1 Axes>"
      ]
     },
     "metadata": {},
     "output_type": "display_data"
    }
   ],
   "source": [
    "import numpy\n",
    "bins = numpy.linspace(0, 800, 100)\n",
    "plt.hist(predictions, bins, label='x', alpha=0.5)\n",
    "plt.hist(ground_truth, bins, label='y', alpha=0.5)\n",
    "plt.show"
   ]
  },
  {
   "cell_type": "code",
   "execution_count": 7,
   "metadata": {},
   "outputs": [
    {
     "data": {
      "text/plain": [
       "10473512    134.0\n",
       "21846200    439.0\n",
       "11444228    291.0\n",
       "23250839    288.0\n",
       "23441487    356.0\n",
       "            ...  \n",
       "20273131    415.0\n",
       "19084124    486.0\n",
       "11936156    370.0\n",
       "5558808     329.0\n",
       "15676022    383.0\n",
       "Name: INCIDENT_RESPONSE_SECONDS_QY, Length: 95975, dtype: float64"
      ]
     },
     "execution_count": 7,
     "metadata": {},
     "output_type": "execute_result"
    }
   ],
   "source": [
    "ground_truth"
   ]
  },
  {
   "cell_type": "code",
   "execution_count": 8,
   "metadata": {},
   "outputs": [
    {
     "data": {
      "text/plain": [
       "array([133.03365, 439.8764 , 289.84006, ..., 367.09317, 328.45523,\n",
       "       381.99643], dtype=float32)"
      ]
     },
     "execution_count": 8,
     "metadata": {},
     "output_type": "execute_result"
    }
   ],
   "source": [
    "predictions"
   ]
  },
  {
   "cell_type": "code",
   "execution_count": null,
   "metadata": {},
   "outputs": [],
   "source": []
  }
 ],
 "metadata": {
  "kernelspec": {
   "display_name": "venv",
   "language": "python",
   "name": "python3"
  },
  "language_info": {
   "codemirror_mode": {
    "name": "ipython",
    "version": 3
   },
   "file_extension": ".py",
   "mimetype": "text/x-python",
   "name": "python",
   "nbconvert_exporter": "python",
   "pygments_lexer": "ipython3",
   "version": "3.12.1"
  }
 },
 "nbformat": 4,
 "nbformat_minor": 2
}
